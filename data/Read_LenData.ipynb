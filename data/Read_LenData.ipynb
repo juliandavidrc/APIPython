{
 "cells": [
  {
   "cell_type": "code",
   "execution_count": 2,
   "id": "de6b1693",
   "metadata": {},
   "outputs": [],
   "source": []
  },
  {
   "cell_type": "code",
   "execution_count": 1,
   "id": "d3730262",
   "metadata": {},
   "outputs": [],
   "source": [
    "import pyspark\n",
    "from pyspark.sql import functions as F\n",
    "from pyspark.sql.functions import explode, col\n",
    "from pyspark.sql import SparkSession\n",
    "from pyspark.sql.functions import array_contains\n",
    "from pyspark.sql import SparkSession,SQLContext\n",
    "import numpy as np\n",
    "import pandas as pd\n",
    "from pyspark.sql.types import *\n",
    "\n",
    "spark = SparkSession.builder.appName('readJson').getOrCreate()\n",
    "\n"
   ]
  },
  {
   "cell_type": "code",
   "execution_count": 2,
   "id": "15a793ea",
   "metadata": {},
   "outputs": [],
   "source": [
    "schema = StructType([\n",
    "    StructField(\"id\", IntegerType(), True),\n",
    "    StructField(\"name\", StringType(), True),\n",
    "    StructField(\"field2\", StringType(), True),\n",
    "    StructField(\"department_id\", IntegerType(), True),\n",
    "    StructField(\"job_id\", IntegerType(), True)])"
   ]
  },
  {
   "cell_type": "code",
   "execution_count": 3,
   "id": "02cd826c",
   "metadata": {},
   "outputs": [],
   "source": [
    "# Read JSONs\n",
    "#df = spark.read(\"hired1.csv\")\n",
    "#df = spark.read.format(\"csv\").option(\"header\",\"false\",\"schema\"=schema).load(\"hired1.csv\")\n",
    "df = spark.read.csv(\"hired1.csv\",header=False,schema=schema)"
   ]
  },
  {
   "cell_type": "code",
   "execution_count": 28,
   "id": "ac19693f",
   "metadata": {},
   "outputs": [
    {
     "name": "stdout",
     "output_type": "stream",
     "text": [
      "+---+--------------------+--------------------+-------------+------+\n",
      "| id|                name|              field2|department_id|job_id|\n",
      "+---+--------------------+--------------------+-------------+------+\n",
      "|  1|         Harold Vogt|2021-11-07T02:48:42Z|            2|    96|\n",
      "|  2|            Ty Hofer|2021-05-30T05:43:46Z|            8|  null|\n",
      "|  3|         Lyman Hadye|2021-09-01T23:27:38Z|            5|    52|\n",
      "|  4|       Lotti Crowthe|2021-10-01T13:04:21Z|           12|    71|\n",
      "|  5|      Gretna Lording|2021-10-10T22:22:17Z|            6|    80|\n",
      "|  6|      Marlow Antecki|2021-04-23T23:45:42Z|            6|    95|\n",
      "|  7|        Joan Rillett|2021-10-10T01:33:31Z|            9|    78|\n",
      "|  8|    Ulrick Nucciotti|2021-07-24T01:28:40Z|            8|   169|\n",
      "|  9|  Lucretia Northcote|2021-04-01T21:22:47Z|            9|     8|\n",
      "| 10|        Arty Giacobo|2022-02-08T12:27:07Z|            6|    62|\n",
      "| 11|        Libbi Dowtry|2021-07-05T04:55:10Z|            6|    41|\n",
      "| 12|        Jacky Oldred|2021-06-20T11:59:41Z|            7|    29|\n",
      "| 13|        Raine Mowett|2021-12-23T08:23:34Z|            8|    83|\n",
      "| 14|     Melonie Slocomb|2021-12-30T23:08:59Z|           12|   121|\n",
      "| 15|      Robers Swinden|2021-02-16T20:00:38Z|            5|    47|\n",
      "| 16|       Bone Serridge|2021-06-21T09:11:06Z|            8|   121|\n",
      "| 17|        Andee Tillot|2021-04-01T10:28:22Z|            8|    65|\n",
      "| 18|         Gay Philbin|2021-12-24T13:40:11Z|            6|   102|\n",
      "| 19|      Loralie Dundin|2021-10-19T20:10:46Z|            8|    68|\n",
      "| 20|         Tobi Lawton|2022-02-20T07:46:22Z|            6|    85|\n",
      "| 21|        Mandel Nayer|2021-12-18T22:55:26Z|            2|   121|\n",
      "| 22|          Toddy Gare|2021-12-05T18:00:50Z|            5|    25|\n",
      "| 23|      Jeremias Goudy|2021-10-01T08:16:32Z|            7|    36|\n",
      "| 24|      Lemar Aronsohn|2021-07-13T15:39:49Z|            8|    93|\n",
      "| 25|      Tanner Jopling|2021-10-16T05:41:59Z|           10|    53|\n",
      "| 26|Bartolomeo Fether...|2021-02-07T09:03:49Z|            5|    65|\n",
      "| 27|      Elvina Bycraft|2021-09-29T20:34:33Z|            7|    74|\n",
      "| 28|      Letitia Bastin|2021-11-20T15:33:14Z|            6|   134|\n",
      "| 29|      Warner Astbury|2021-08-30T17:22:09Z|            6|    67|\n",
      "| 30|       Geri Pennings|2022-02-16T21:08:33Z|            4|    33|\n",
      "| 31|       Jerald Gilder|2022-01-15T02:33:31Z|            4|    74|\n",
      "| 32|   Wilt Di Francesco|2021-09-26T21:51:10Z|            9|    82|\n",
      "| 33|     Aldwin Hellmore|2021-09-27T11:12:00Z|           10|    49|\n",
      "| 34|     Corena Heritege|2021-05-08T01:43:42Z|            4|    31|\n",
      "| 35|      Malchy Pontain|2022-02-20T10:39:43Z|           11|   178|\n",
      "| 36|        Gasparo Ofen|2021-11-07T11:41:10Z|            4|    57|\n",
      "| 37|      Nikkie Whinray|2021-12-30T05:37:33Z|            7|   114|\n",
      "| 38|       Louisa Binion|2021-02-11T14:29:26Z|            8|    54|\n",
      "| 39|          Brook Tant|2021-09-27T12:50:01Z|           10|   113|\n",
      "| 40|            Cly Butt|2022-01-01T06:33:57Z|            8|    75|\n",
      "| 41|         Jena Iacomi|2021-05-04T19:49:00Z|            9|    37|\n",
      "| 42|           Pail Syne|2021-09-14T03:08:04Z|            7|    26|\n",
      "| 43|          Agneta Rae|2021-09-29T12:36:18Z|            3|    51|\n",
      "| 44|      Lanae Pedrozzi|2021-05-14T18:26:59Z|            5|   118|\n",
      "| 45|       Gipsy Cabrera|2021-12-17T11:47:44Z|           12|   138|\n",
      "| 46|     Philly Beecraft|2021-03-03T14:48:53Z|            8|    59|\n",
      "| 47|         Jimmie Jack|2021-02-04T07:50:18Z|            4|    64|\n",
      "| 48|        Lonee Hegden|2021-06-07T09:12:33Z|           10|    58|\n",
      "| 49|   Annecorinne Verny|2021-05-08T23:05:13Z|            9|   140|\n",
      "| 50|Marybelle Henrichsen|2021-06-17T10:02:48Z|           10|    53|\n",
      "| 51|          Moe Kender|2022-02-03T08:06:34Z|            7|    35|\n",
      "| 52|       Trudie Arboin|2021-10-12T02:10:35Z|            6|    76|\n",
      "| 53|     Rebbecca Bazely|2021-11-14T21:00:10Z|            9|   115|\n",
      "| 54|   Bevin Battlestone|2021-11-13T08:29:11Z|            7|    53|\n",
      "| 55|       Marielle Nasi|2022-02-02T00:11:54Z|           10|    34|\n",
      "| 56|       Orelie Gauvin|2022-01-29T13:52:35Z|            3|    40|\n",
      "| 57|     Meggie Dulwitch|2022-01-25T18:58:12Z|            4|    65|\n",
      "| 58|       Elia D'Enrico|2021-08-29T23:24:48Z|           11|    38|\n",
      "| 59|    Sharron Stammirs|2022-02-01T15:49:52Z|            2|    38|\n",
      "| 60|Washington Schles...|2022-01-30T11:38:20Z|            5|    91|\n",
      "| 61|   Artemus Featherby|2021-02-26T22:38:18Z|            4|   128|\n",
      "| 62|            Lou Hurd|2021-10-14T19:06:01Z|            5|    96|\n",
      "| 63|          Tanhya Ort|2021-06-15T06:17:11Z|            7|   104|\n",
      "| 64|     Florella Haquin|2022-02-11T06:39:40Z|            7|    61|\n",
      "| 65|    Saundra Franzini|2021-12-29T01:42:44Z|            5|    51|\n",
      "| 66|      Redford Rilton|2021-04-13T22:51:46Z|           10|    75|\n",
      "| 67|        Thia Morican|2021-03-10T19:27:10Z|         null|   104|\n",
      "| 68|    Perceval MacLice|2021-03-16T20:21:07Z|            5|    15|\n",
      "| 69|   Sidoney Ciobutaru|2021-03-08T09:28:55Z|            7|   123|\n",
      "| 70|          Ted Dungay|2021-08-09T20:13:21Z|            4|    95|\n",
      "| 71|      Brandea Sinott|2021-12-11T01:47:11Z|           12|    72|\n",
      "| 72|        Judy Chifney|2021-10-22T18:48:13Z|           10|    61|\n",
      "| 73|   Matthus Szymanzyk|2021-04-26T04:21:25Z|            7|     3|\n",
      "| 74|       Wilma Duplain|2021-02-21T08:24:12Z|            5|    87|\n",
      "| 75|        Xylia Furlow|2021-10-12T17:24:25Z|            8|    60|\n",
      "| 76|       Carver Kirman|2022-01-28T17:32:21Z|            4|   121|\n",
      "| 77|       Fayette Prati|2021-07-29T08:29:27Z|            7|    78|\n",
      "| 78|Christalle Consta...|2021-10-04T21:24:21Z|            7|   161|\n",
      "| 79|       Ashley Dickey|2021-10-24T01:04:52Z|           10|    67|\n",
      "| 80|      Angelika Stock|2022-02-12T23:11:53Z|            6|   163|\n",
      "| 81|        Caril Bewsey|2022-01-22T05:56:43Z|            1|    73|\n",
      "| 82|      Lief Bridgeman|2021-05-25T00:35:53Z|           12|    25|\n",
      "| 83|          Barth Bere|2021-09-22T21:50:08Z|            9|    90|\n",
      "| 84|      Ludvig Norwood|2021-02-26T18:47:53Z|            3|  null|\n",
      "| 85|        Dev Ingleson|2021-07-01T15:47:16Z|            7|    90|\n",
      "| 86|        Vinnie Andri|2021-10-31T08:53:54Z|            4|    51|\n",
      "| 87|Cirstoforo Martin...|2021-10-15T09:19:20Z|         null|    84|\n",
      "| 88| Rosabelle Sterzaker|2021-03-12T14:32:57Z|            5|   124|\n",
      "| 89|Rodrique Fearnehough|2021-12-01T13:30:50Z|            4|    57|\n",
      "| 90|        Germana Bote|2021-05-30T17:02:38Z|            4|    48|\n",
      "| 91|      Rolf Tythacott|2021-04-16T15:32:45Z|            5|    76|\n",
      "| 92|     Floria Peniello|2021-12-24T08:38:29Z|            4|    81|\n",
      "| 93|     Belinda Savaage|2021-06-04T09:39:59Z|            4|    48|\n",
      "| 94|Zachariah Comberbach|2021-10-01T16:14:13Z|            5|   150|\n",
      "| 95|      Lowell Woollin|2021-05-17T18:22:06Z|            8|    95|\n",
      "| 96|      Creight Rutter|2021-06-29T23:57:57Z|            7|    76|\n",
      "| 97|       Beltran Natte|2021-11-01T05:12:01Z|         null|    67|\n",
      "| 98|       Colman Casale|2021-10-12T17:55:32Z|           10|    64|\n",
      "| 99|          Marlo Tott|2021-05-18T00:45:21Z|            8|    29|\n",
      "|100|Karita Kettlestri...|2021-06-19T03:14:14Z|            7|    99|\n",
      "+---+--------------------+--------------------+-------------+------+\n",
      "\n"
     ]
    }
   ],
   "source": [
    "df.show(1000)"
   ]
  },
  {
   "cell_type": "code",
   "execution_count": 6,
   "id": "b5d8a07d",
   "metadata": {},
   "outputs": [
    {
     "data": {
      "text/plain": [
       "['id', 'name', 'field2', 'department_id', 'job_id']"
      ]
     },
     "execution_count": 6,
     "metadata": {},
     "output_type": "execute_result"
    }
   ],
   "source": [
    "df.columns"
   ]
  },
  {
   "cell_type": "code",
   "execution_count": 7,
   "id": "db06a73a",
   "metadata": {},
   "outputs": [
    {
     "data": {
      "text/html": [
       "<div>\n",
       "<style scoped>\n",
       "    .dataframe tbody tr th:only-of-type {\n",
       "        vertical-align: middle;\n",
       "    }\n",
       "\n",
       "    .dataframe tbody tr th {\n",
       "        vertical-align: top;\n",
       "    }\n",
       "\n",
       "    .dataframe thead th {\n",
       "        text-align: right;\n",
       "    }\n",
       "</style>\n",
       "<table border=\"1\" class=\"dataframe\">\n",
       "  <thead>\n",
       "    <tr style=\"text-align: right;\">\n",
       "      <th></th>\n",
       "      <th>id</th>\n",
       "      <th>name</th>\n",
       "      <th>datefield</th>\n",
       "      <th>department_id</th>\n",
       "      <th>job_id</th>\n",
       "    </tr>\n",
       "  </thead>\n",
       "  <tbody>\n",
       "    <tr>\n",
       "      <th>0</th>\n",
       "      <td>id</td>\n",
       "      <td>employee_name</td>\n",
       "      <td>hired_date</td>\n",
       "      <td>department_id</td>\n",
       "      <td>job_id</td>\n",
       "    </tr>\n",
       "    <tr>\n",
       "      <th>1</th>\n",
       "      <td>150</td>\n",
       "      <td>Valentia Kellegher</td>\n",
       "      <td>2021-11-13 13:30:304</td>\n",
       "      <td>51</td>\n",
       "      <td>NaN</td>\n",
       "    </tr>\n",
       "    <tr>\n",
       "      <th>2</th>\n",
       "      <td>151</td>\n",
       "      <td>Jarrett Oluwatoyin</td>\n",
       "      <td>2021-02-11 21:25:178</td>\n",
       "      <td>34</td>\n",
       "      <td>NaN</td>\n",
       "    </tr>\n",
       "    <tr>\n",
       "      <th>3</th>\n",
       "      <td>152</td>\n",
       "      <td>Kori Foxton</td>\n",
       "      <td>2021-04-10 14:02:385</td>\n",
       "      <td>95</td>\n",
       "      <td>NaN</td>\n",
       "    </tr>\n",
       "    <tr>\n",
       "      <th>4</th>\n",
       "      <td>153</td>\n",
       "      <td>Truman Garriock</td>\n",
       "      <td>2021-09-08 13:11:2611</td>\n",
       "      <td>88</td>\n",
       "      <td>NaN</td>\n",
       "    </tr>\n",
       "  </tbody>\n",
       "</table>\n",
       "</div>"
      ],
      "text/plain": [
       "    id                name              datefield  department_id  job_id\n",
       "0   id       employee_name             hired_date  department_id  job_id\n",
       "1  150  Valentia Kellegher   2021-11-13 13:30:304             51     NaN\n",
       "2  151  Jarrett Oluwatoyin   2021-02-11 21:25:178             34     NaN\n",
       "3  152         Kori Foxton   2021-04-10 14:02:385             95     NaN\n",
       "4  153     Truman Garriock  2021-09-08 13:11:2611             88     NaN"
      ]
     },
     "execution_count": 7,
     "metadata": {},
     "output_type": "execute_result"
    }
   ],
   "source": [
    "path_dept = './data/departments.csv'\n",
    "path_jobs = './data/jobs.csv'\n",
    "path_hiredemp = 'hired1.csv'\n",
    "\n",
    "\n",
    "#df = pd.read_csv(path_dept,header=None, names=['id', 'tdepartment'])\n",
    "#print(data_dept.iloc[0:3,])\n",
    "\n",
    "df = pd.read_csv(path_hiredemp,header=None, names=['id', 'name', 'datefield', 'department_id', 'job_id'])\n",
    "\n",
    "df.head()"
   ]
  },
  {
   "cell_type": "code",
   "execution_count": 8,
   "id": "a7c34ec6",
   "metadata": {},
   "outputs": [
    {
     "data": {
      "text/plain": [
       "Index(['id', 'name', 'datefield', 'department_id', 'job_id'], dtype='object')"
      ]
     },
     "execution_count": 8,
     "metadata": {},
     "output_type": "execute_result"
    }
   ],
   "source": [
    "df.columns"
   ]
  },
  {
   "cell_type": "code",
   "execution_count": 17,
   "id": "4ce135a3",
   "metadata": {},
   "outputs": [],
   "source": [
    "df.createOrReplaceTempView('hired')"
   ]
  },
  {
   "cell_type": "code",
   "execution_count": 18,
   "id": "8c5ddbab",
   "metadata": {},
   "outputs": [
    {
     "name": "stdout",
     "output_type": "stream",
     "text": [
      "+---+------------------+--------------------+---+----+\n",
      "|_c0|               _c1|                 _c2|_c3| _c4|\n",
      "+---+------------------+--------------------+---+----+\n",
      "|  1|       Harold Vogt|2021-11-07T02:48:42Z|  2|  96|\n",
      "|  2|          Ty Hofer|2021-05-30T05:43:46Z|  8|null|\n",
      "|  3|       Lyman Hadye|2021-09-01T23:27:38Z|  5|  52|\n",
      "|  4|     Lotti Crowthe|2021-10-01T13:04:21Z| 12|  71|\n",
      "|  5|    Gretna Lording|2021-10-10T22:22:17Z|  6|  80|\n",
      "|  6|    Marlow Antecki|2021-04-23T23:45:42Z|  6|  95|\n",
      "|  7|      Joan Rillett|2021-10-10T01:33:31Z|  9|  78|\n",
      "|  8|  Ulrick Nucciotti|2021-07-24T01:28:40Z|  8| 169|\n",
      "|  9|Lucretia Northcote|2021-04-01T21:22:47Z|  9|   8|\n",
      "| 10|      Arty Giacobo|2022-02-08T12:27:07Z|  6|  62|\n",
      "| 11|      Libbi Dowtry|2021-07-05T04:55:10Z|  6|  41|\n",
      "| 12|      Jacky Oldred|2021-06-20T11:59:41Z|  7|  29|\n",
      "| 13|      Raine Mowett|2021-12-23T08:23:34Z|  8|  83|\n",
      "| 14|   Melonie Slocomb|2021-12-30T23:08:59Z| 12| 121|\n",
      "| 15|    Robers Swinden|2021-02-16T20:00:38Z|  5|  47|\n",
      "| 16|     Bone Serridge|2021-06-21T09:11:06Z|  8| 121|\n",
      "| 17|      Andee Tillot|2021-04-01T10:28:22Z|  8|  65|\n",
      "| 18|       Gay Philbin|2021-12-24T13:40:11Z|  6| 102|\n",
      "| 19|    Loralie Dundin|2021-10-19T20:10:46Z|  8|  68|\n",
      "| 20|       Tobi Lawton|2022-02-20T07:46:22Z|  6|  85|\n",
      "+---+------------------+--------------------+---+----+\n",
      "only showing top 20 rows\n",
      "\n"
     ]
    }
   ],
   "source": [
    "spark.sql(\"\"\"\n",
    "SELECT * FROM hired  \n",
    "  \"\"\").show()"
   ]
  }
 ],
 "metadata": {
  "kernelspec": {
   "display_name": "Python 3 (ipykernel)",
   "language": "python",
   "name": "python3"
  },
  "language_info": {
   "codemirror_mode": {
    "name": "ipython",
    "version": 3
   },
   "file_extension": ".py",
   "mimetype": "text/x-python",
   "name": "python",
   "nbconvert_exporter": "python",
   "pygments_lexer": "ipython3",
   "version": "3.9.7"
  }
 },
 "nbformat": 4,
 "nbformat_minor": 5
}
